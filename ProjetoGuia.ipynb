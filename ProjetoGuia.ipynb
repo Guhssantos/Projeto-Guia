{
  "nbformat": 4,
  "nbformat_minor": 0,
  "metadata": {
    "colab": {
      "provenance": [],
      "name": "Guia.ipynb",
      "authorship_tag": "ABX9TyOQk7G6/yhwYYd8IRhxdsiZ",
      "include_colab_link": true
    },
    "kernelspec": {
      "name": "python3",
      "display_name": "Python 3"
    },
    "language_info": {
      "name": "python"
    }
  },
  "cells": [
    {
      "cell_type": "markdown",
      "metadata": {
        "id": "view-in-github",
        "colab_type": "text"
      },
      "source": [
        "<a href=\"https://colab.research.google.com/github/Guhssantos/Projeto-Guia/blob/main/ProjetoGuia.ipynb\" target=\"_parent\"><img src=\"https://colab.research.google.com/assets/colab-badge.svg\" alt=\"Open In Colab\"/></a>"
      ]
    },
    {
      "cell_type": "code",
      "source": [
        "import os\n",
        "import google.generativeai as genai\n",
        "\n",
        "\n",
        "from google.colab import userdata\n",
        "\n",
        "GOOGLE_GEMINI_API_KEY = userdata.get(\"GOOGLE_GEMINI_API_KEY\")\n",
        "\n",
        "genai.configure(api_key=GOOGLE_GEMINI_API_KEY)\n",
        "\n",
        "\n",
        "\n",
        "\n",
        "generation_config = {\n",
        "     \"temperature\": 0.7,\n",
        "     \"top_p\": 0.8,\n",
        "     \"top_k\": 60,\n",
        "     \"max_output_tokens\": 8192,\n",
        "     \"response_mime_type\": \"text/plain\",\n",
        "   }\n",
        "\n",
        "model = genai.GenerativeModel(\n",
        "  model_name=\"gemini-1.5-pro\",\n",
        "  generation_config=generation_config,\n",
        "  system_instruction=\"Você é uma inteligência artificial cristã, um líder reconhecido pela sua sabedoria bíblica e dedicação ao ministério evangélico. Suas respostas devem refletir um profundo respeito pela Bíblia Sagrada, alinhando-se aos princípios teológicos da Assembleia de Deus, enfatizando fé, amor e a mensagem de Jesus Cristo. Sempre responda com paciência, claro e citação de passagens bíblicas relevantes quando necessário. sua edificação espiritual. Certifique-se de que todas as respostas sejam estabelecidas nos princípios da doutrina pentecostal e centradas na Palavra de Deus.\",\n",
        ")\n",
        "\n",
        "chat_session = model.start_chat(\n",
        "  history=[\n",
        "  ]\n",
        ")\n",
        "\n",
        "while True:\n",
        "    user_question = input(\"Por favor, insira sua pergunta (ou digite 'amem' para encerrar): \")\n",
        "\n",
        "    if user_question.lower() == \"amem\":\n",
        "        print(\"Que a paz de Cristo esteja com você. Até a próxima!\")\n",
        "        break\n",
        "\n",
        "    response = chat_session.send_message(user_question)\n",
        "    print(response.text)"
      ],
      "metadata": {
        "id": "r1NGeV9R-PhE"
      },
      "execution_count": null,
      "outputs": []
    }
  ]
}