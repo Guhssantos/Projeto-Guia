{
  "nbformat": 4,
  "nbformat_minor": 0,
  "metadata": {
    "colab": {
      "provenance": [],
      "name": "Guia.ipynb",
      "authorship_tag": "ABX9TyN2ILwKUydNcF5jUDzd/coy",
      "include_colab_link": true
    },
    "kernelspec": {
      "name": "python3",
      "display_name": "Python 3"
    },
    "language_info": {
      "name": "python"
    }
  },
  "cells": [
    {
      "cell_type": "markdown",
      "metadata": {
        "id": "view-in-github",
        "colab_type": "text"
      },
      "source": [
        "<a href=\"https://colab.research.google.com/github/Guhssantos/Projeto-Guia/blob/main/Intelichat.ipynb\" target=\"_parent\"><img src=\"https://colab.research.google.com/assets/colab-badge.svg\" alt=\"Open In Colab\"/></a>"
      ]
    },
    {
      "cell_type": "code",
      "source": [
        "import os\n",
        "import google.generativeai as genai\n",
        "\n",
        "\n",
        "from google.colab import userdata\n",
        "\n",
        "GOOGLE_GEMINI_API_KEY = userdata.get(\"GOOGLE_GEMINI_API_KEY\")\n",
        "\n",
        "genai.configure(api_key=GOOGLE_GEMINI_API_KEY)\n",
        "\n",
        "\n",
        "\n",
        "\n",
        "generation_config = {\n",
        "     \"temperature\": 0.7,\n",
        "     \"top_p\": 0.8,\n",
        "     \"top_k\": 60,\n",
        "     \"max_output_tokens\": 8192,\n",
        "     \"response_mime_type\": \"text/plain\",\n",
        "   }\n",
        "\n",
        "model = genai.GenerativeModel(\n",
        "  model_name=\"gemini-1.5-pro\",\n",
        "  generation_config=generation_config,\n",
        "  system_instruction=\"Você é a inteligência artificial responsável pelo gerenciamento eficiente das tarefas. Sempre que um usuário realizar uma solicitação, você analisará a natureza do pedido e o encaminhará à equipe responsável, fornecendo uma resposta objetiva e resumida. Dependendo do tipo de solicitação, você registrará conforme a seguinte classificação: Requisição : Caso o pedido envolva a solicitação de um serviço ou acesso a um recurso, ele será registrado como RC-0001 . Incidente : Se uma solicitação estiver relacionada a uma falha, erro ou interrupção de serviço, ocorrerá como IC-0001 . Após a classificação da dívida, a chamada será encaminhada automaticamente para a fila correspondente: Requisição : Direcionada para a fila de Atendimento de Requisições , onde a equipe especializada avaliará e processará o pedido. Incidente : Encaminhado à fila de Suporte Técnico , responsável pela investigação e resolução do problema. Além disso, você monitorará continuamente o andamento da solicitação, garantindo que o usuário receba atualizações sobre o status da chamada até sua conclusão. Todo esse processo ocorre de forma automatizada e precisa, garantindo um suporte ágil e eficiente para o usuário.\",\n",
        ")\n",
        "\n",
        "chat_session = model.start_chat(\n",
        "  history=[\n",
        "  ]\n",
        ")\n",
        "\n",
        "while True:\n",
        "    user_question = input(\"Por favor, insira sua pergunta (ou digite 'fim' para encerrar): \")\n",
        "\n",
        "    if user_question.lower() == \"amem\":\n",
        "        print(\"Que a paz de Cristo esteja com você. Até a próxima!\")\n",
        "        break\n",
        "\n",
        "    response = chat_session.send_message(user_question)\n",
        "    print(response.text)"
      ],
      "metadata": {
        "id": "r1NGeV9R-PhE"
      },
      "execution_count": null,
      "outputs": []
    }
  ]
}